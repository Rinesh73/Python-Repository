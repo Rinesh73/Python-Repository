{
 "cells": [
  {
   "cell_type": "code",
   "execution_count": 2,
   "metadata": {},
   "outputs": [],
   "source": [
    "# 1) Create a password checker. Get username and password from user\n",
    "\n",
    "# Rule to be followed\n",
    "\n",
    "# 1) Minimum 8 characters\n",
    "# 2) Should be a Alphanumeric(aleast one alphabet and one number)\n",
    "# 3) Should contain minimum 1 special Character -[!@#$%^&*]\n",
    "# 4) password should not be same as the username\n",
    "\n",
    "# If password satisfies all the condition, print password is valid, if it not satisying, print the condition which are not satisfying.\n",
    "\n",
    "# Input : username : greatlearning\n",
    "#         password : abc1\n",
    "\n",
    "# Output :\n",
    "#          Password is invalid\n",
    "#          Reason:\n",
    "#          Should contain minimum 8 characters\n",
    "#          Should contain minimum 1 special Character -[!@#$%^&*]\n",
    "\n",
    "\n",
    "\n",
    "# Input : username : greatlearning\n",
    "#         password : abc123@\n",
    "\n",
    "# Output :\n",
    "#          Password is invalid\n",
    "#          Reason:\n",
    "#          Should contain minimum 8 characters\n",
    "\n",
    "# Input : username : greatlearning\n",
    "#         password : greatlearning\n",
    "\n",
    "# Output :\n",
    "#          Password is invalid\n",
    "#          Reason:\n",
    "#          Should be a Alphanumeric(aleast one alphabet and one number)\n",
    "#          Should contain minimum 1 special Character -[!@#$%^&*]\n",
    "#          Password should not be same as the username\n",
    "\n",
    "# Input : username : greatlearning\n",
    "#         password : great123!#\n",
    "\n",
    "# Output : \n",
    "#         Password is valid         \n"
   ]
  },
  {
   "cell_type": "code",
   "execution_count": 1,
   "metadata": {},
   "outputs": [
    {
     "name": "stdout",
     "output_type": "stream",
     "text": [
      "username : Great\n",
      "password : great\n",
      "Password is invalid\n",
      "Reason:\n",
      "Should contain minimum 8 characters\n",
      "Should be a Alphanumeric(aleast one alphabet and one number)\n",
      "Should contain minimum 1 special Character-[!@#$%^&*]\n",
      "Password should not be same as the username\n"
     ]
    }
   ],
   "source": [
    "username=input(\"username : \").lower()\n",
    "password=input(\"password : \").lower()\n",
    "symbol=[\"!\",\"@\",\"#\",\"$\",\"%\",\"^\",\"&\",\"*\"]\n",
    "count=0\n",
    "count1=0\n",
    "count2=0\n",
    "count3=0\n",
    "list1=list(password)\n",
    "for i in list1:\n",
    "    count=count+1\n",
    "    a=ord(i)\n",
    "    if(a in range(97,123)):\n",
    "        count1=count1+1\n",
    "    elif(i in symbol):\n",
    "        count2=count2+1\n",
    "    elif(a in range(48,58)):\n",
    "        count3=count3+1\n",
    "if(count<8 or count1<1 or count2<1 or count3<1 or password == username):\n",
    "    print(\"Password is invalid\")\n",
    "    print(\"Reason:\")\n",
    "    if(count<8):\n",
    "        print(\"Should contain minimum 8 characters\")\n",
    "    if(count1<1 or count3<1):\n",
    "        print(\"Should be a Alphanumeric(aleast one alphabet and one number)\")\n",
    "    if(count2<1):\n",
    "        print(\"Should contain minimum 1 special Character-[!@#$%^&*]\")\n",
    "    if(password == username):\n",
    "        print(\"Password should not be same as the username\")\n",
    "else:\n",
    "    print(\"Password is valid\")\n",
    "    \n",
    "\n",
    "    "
   ]
  },
  {
   "cell_type": "code",
   "execution_count": null,
   "metadata": {},
   "outputs": [],
   "source": [
    "# 2)  Find the following distance for given two points[(x1,y2) and (x2,y2)]\n",
    "\n",
    "# 1) Euclidean Distance2\n",
    "# 2) Manhattan Distance\n",
    "# 3) Cosine Distance\n",
    "# 4) Jaccard Distance\n",
    "\n",
    "# Input Description : x1,y1,x2,y2 \n",
    "\n",
    "# Input: 2 1 4 3\n",
    "\n",
    "# Output:\n",
    "\n",
    "# 2.828\n",
    "# 4\n",
    "# 0.98\n",
    "# 0\n",
    "\n",
    "# Note:go through all the types of distance and solve it"
   ]
  },
  {
   "cell_type": "code",
   "execution_count": 7,
   "metadata": {},
   "outputs": [
    {
     "name": "stdout",
     "output_type": "stream",
     "text": [
      "Input Description : x1,y1,x2,y2 2\n",
      "Input Description : x1,y1,x2,y2 1\n",
      "Input Description : x1,y1,x2,y2 4\n",
      "Input Description : x1,y1,x2,y2 3\n",
      "Euclidean Distance = 2.828\n",
      "Manhattan Distance =4.000\n",
      "Cosine Distance = 0.990\n"
     ]
    }
   ],
   "source": [
    "import math\n",
    "dist=[]\n",
    "for i in range(4):\n",
    "    a=float(input(\"Enter the values for x1,y1,x2,y2 \"))\n",
    "    dist.append(a)\n",
    "print(\"Euclidean Distance = %0.3f\"%((dist[2]-dist[0])**2+(dist[3]-dist[1])**2)**0.5)\n",
    "print(\"Manhattan Distance =%0.3f\"%((dist[2]-dist[0])+(dist[3]-dist[1])))\n",
    "print(\"Cosine Distance = %0.3f\"%(((dist[0]*dist[1])+(dist[2]*dist[3]))/ ((math.sqrt((dist[0])**2+(dist[2])**2))*(math.sqrt((dist[1])**2+(dist[3])**2)))))\n",
    "\n"
   ]
  },
  {
   "cell_type": "code",
   "execution_count": null,
   "metadata": {},
   "outputs": [],
   "source": [
    "# 3) i) Solve the following patterns \n",
    "\n",
    "# Input Description:   row count\n",
    "\n",
    "# Input : 4\n",
    "\n",
    "# *\n",
    "# **\n",
    "# ***\n",
    "# ****\n",
    "\n"
   ]
  },
  {
   "cell_type": "code",
   "execution_count": 57,
   "metadata": {},
   "outputs": [
    {
     "name": "stdout",
     "output_type": "stream",
     "text": [
      "Enter row count: 4\n",
      "*\n",
      "**\n",
      "***\n",
      "****\n"
     ]
    }
   ],
   "source": [
    "a=int(input(\"Enter row count: \"))\n",
    "for i in range(1,a+1):\n",
    "    for j in range(i):\n",
    "        print(\"*\",end=\"\")\n",
    "    print()"
   ]
  },
  {
   "cell_type": "code",
   "execution_count": null,
   "metadata": {},
   "outputs": [],
   "source": [
    "# 3) ii) Solve the following patterns \n",
    "\n",
    "# Input Description:   row count\n",
    "\n",
    "# Input : 4\n",
    "\n",
    "# ****\n",
    "# ***\n",
    "# **\n",
    "# *"
   ]
  },
  {
   "cell_type": "code",
   "execution_count": 58,
   "metadata": {},
   "outputs": [
    {
     "name": "stdout",
     "output_type": "stream",
     "text": [
      "Enter row count: 4\n",
      "****\n",
      "***\n",
      "**\n",
      "*\n"
     ]
    }
   ],
   "source": [
    "a=int(input(\"Enter row count: \"))\n",
    "for i in range(a,0,-1):\n",
    "    for j in range(i):\n",
    "        print(\"*\",end=\"\")\n",
    "    print()"
   ]
  },
  {
   "cell_type": "code",
   "execution_count": null,
   "metadata": {},
   "outputs": [],
   "source": [
    "# 3) iii) Solve the following patterns \n",
    "\n",
    "# Input Description:   row count\n",
    "\n",
    "# Input : 4\n",
    "\n",
    "#    *\n",
    "#   **\n",
    "#  ***\n",
    "# ****"
   ]
  },
  {
   "cell_type": "code",
   "execution_count": 59,
   "metadata": {},
   "outputs": [
    {
     "name": "stdout",
     "output_type": "stream",
     "text": [
      "Enter row count: 4\n",
      "   *\n",
      "  **\n",
      " ***\n",
      "****\n"
     ]
    }
   ],
   "source": [
    "a=int(input(\"Enter row count: \"))\n",
    "for i in range(1,a+1):\n",
    "    for j in range(i,a):\n",
    "        print(\" \",end=\"\")\n",
    "    for k in range(i):\n",
    "        print(\"*\",end=\"\")\n",
    "    print()\n",
    "        "
   ]
  },
  {
   "cell_type": "code",
   "execution_count": null,
   "metadata": {},
   "outputs": [],
   "source": [
    "# 3) iv) Solve the following patterns \n",
    "\n",
    "# Input Description:   row count\n",
    "\n",
    "# Input : 4\n",
    "\n",
    "# ****\n",
    "#  ***\n",
    "#   **\n",
    "#    *"
   ]
  },
  {
   "cell_type": "code",
   "execution_count": 61,
   "metadata": {},
   "outputs": [
    {
     "name": "stdout",
     "output_type": "stream",
     "text": [
      "Enter row count: 4\n",
      "****\n",
      " ***\n",
      "  **\n",
      "   *\n"
     ]
    }
   ],
   "source": [
    "a=int(input(\"Enter row count: \"))\n",
    "for i in range(a,0,-1):\n",
    "    for j in range(i,a):\n",
    "        print(\" \",end=\"\")\n",
    "    for k in range(i):\n",
    "        print(\"*\",end=\"\")\n",
    "    print()\n",
    "        "
   ]
  },
  {
   "cell_type": "code",
   "execution_count": 2,
   "metadata": {},
   "outputs": [],
   "source": [
    "# 3) v) Solve the following patterns (Pascal Traingle)\n",
    "\n",
    "# Input Description:   row count\n",
    "\n",
    "# Input : 4\n",
    "\n",
    "#    1\n",
    "#   1 1\n",
    "#  1 2 1\n",
    "# 1 3 3 1"
   ]
  },
  {
   "cell_type": "code",
   "execution_count": 14,
   "metadata": {},
   "outputs": [
    {
     "name": "stdout",
     "output_type": "stream",
     "text": [
      "Enter row count: 4\n",
      "   1 \n",
      "  1 1 \n",
      " 1 2 1 \n",
      "1 3 3 1 \n"
     ]
    }
   ],
   "source": [
    "a=int(input(\"Enter row count: \"))\n",
    "for i in range(1,a+1):\n",
    "    b=1\n",
    "    for j in range(i,a):\n",
    "        print(\" \",end=\"\")\n",
    "    for k in range(1,i+1):\n",
    "        print(b,\"\",end=\"\")\n",
    "        b= int(b * (i-k) / k);\n",
    "    print()\n",
    "    "
   ]
  },
  {
   "cell_type": "code",
   "execution_count": null,
   "metadata": {},
   "outputs": [],
   "source": [
    "# 3) vi) Solve the following patterns \n",
    "\n",
    "# Input Description:   row count\n",
    "\n",
    "# Input : 4\n",
    "\n",
    "# 1\n",
    "# 2 * 3\n",
    "# 4 * 5 * 6\n",
    "# 7 * 8 * 9 * 10"
   ]
  },
  {
   "cell_type": "code",
   "execution_count": 40,
   "metadata": {},
   "outputs": [
    {
     "name": "stdout",
     "output_type": "stream",
     "text": [
      "Enter row count: 4\n",
      "1 \n",
      "2 * 3 \n",
      "4 * 5 * 6 \n",
      "7 * 8 * 9 * 10 \n"
     ]
    }
   ],
   "source": [
    "a=int(input(\"Enter row count: \"))\n",
    "b=1\n",
    "for i in range(1,a+1):\n",
    "    for j in range(i):\n",
    "        print(b,end=\" \")\n",
    "        b=b+1\n",
    "        if(j==i-1):\n",
    "            continue\n",
    "        else:\n",
    "            print(\"*\",end=\" \")\n",
    "    print()\n",
    "    "
   ]
  },
  {
   "cell_type": "code",
   "execution_count": null,
   "metadata": {},
   "outputs": [],
   "source": [
    "# 3) vii) Solve the following patterns \n",
    "\n",
    "# Input Description:   row count\n",
    "\n",
    "# Input : 4\n",
    "\n",
    "#      *\n",
    "#     * *\n",
    "#    * * *\n",
    "#   * * * *\n",
    "#    * * *\n",
    "#     * *\n",
    "#      *"
   ]
  },
  {
   "cell_type": "code",
   "execution_count": 142,
   "metadata": {},
   "outputs": [
    {
     "name": "stdout",
     "output_type": "stream",
     "text": [
      "Enter row count: 4\n",
      "   * \n",
      "  * * \n",
      " * * * \n",
      "* * * * \n",
      " * * * \n",
      "  * * \n",
      "   * \n"
     ]
    }
   ],
   "source": [
    "a=int(input(\"Enter row count: \"))\n",
    "for i in range(1,a+1):\n",
    "    for j in range(i,a):\n",
    "        print(\" \",end=\"\")\n",
    "    for k in range(i):\n",
    "        print(\"*\",end=\"\")\n",
    "        print(\" \",end=\"\")\n",
    "    print()\n",
    "for l in range(a-1,0,-1):\n",
    "    for j in range(l,a):\n",
    "        print(\" \",end=\"\")\n",
    "    for k in range(l):\n",
    "        print(\"*\",end=\"\")\n",
    "        print(\" \",end=\"\")\n",
    "    print()\n",
    "    \n",
    "    "
   ]
  },
  {
   "cell_type": "code",
   "execution_count": null,
   "metadata": {},
   "outputs": [],
   "source": [
    "# 3) viii) Solve the following patterns \n",
    "\n",
    "# Input Description:   row count\n",
    "\n",
    "# Input : 4\n",
    "\n",
    "# 1\n",
    "# 2 * 3\n",
    "# 4 * 5 * 6\n",
    "# 7 * 8 * 9 * 10\n",
    "# 4 * 5 * 6\n",
    "# 2 * 3\n",
    "# 1"
   ]
  },
  {
   "cell_type": "code",
   "execution_count": 2,
   "metadata": {},
   "outputs": [
    {
     "name": "stdout",
     "output_type": "stream",
     "text": [
      "Enter row count: 4\n",
      "1\n",
      "2  *  3\n",
      "4  *  5  *  6\n",
      "7  *  8  *  9  *  10\n",
      "4  *  5  *  6 \n",
      "2  *  3 \n",
      "1\n"
     ]
    }
   ],
   "source": [
    "n = int(input('Enter row count: '))\n",
    "x=2\n",
    "for i in range(1,n+1):\n",
    "    \n",
    "    if(i==1):\n",
    "        print(i)\n",
    "    else:\n",
    "        print(x,end='')\n",
    "        for j in range(i-1):\n",
    "            x+=1\n",
    "            print('  * ',x,end='')\n",
    "        x+=1\n",
    "        print()\n",
    "        \n",
    "x=x-n+1\n",
    "for l in range(n-1,0,-1):\n",
    "    \n",
    "    if(l==1):\n",
    "        print(l)\n",
    "        break\n",
    "    for k in range(l,0,-1):\n",
    "        if(k==1):\n",
    "            print(x-k-1,end=' ')\n",
    "        else:\n",
    "            print(x-k-1,' * ',end=' ')\n",
    "    x=x-l\n",
    "    print()"
   ]
  },
  {
   "cell_type": "code",
   "execution_count": 1,
   "metadata": {},
   "outputs": [],
   "source": [
    "# 3) ix) Program to print the pattern ‘G’\n",
    "\n",
    "# Input Description : No of rows\n",
    "\n",
    "# Input : 7\n",
    "# Output :\n",
    "#   ***  \n",
    "#  *     \n",
    "#  *     \n",
    "#  * *** \n",
    "#  *   * \n",
    "#  *   * \n",
    "#   ***  \n"
   ]
  },
  {
   "cell_type": "code",
   "execution_count": 121,
   "metadata": {},
   "outputs": [
    {
     "name": "stdout",
     "output_type": "stream",
     "text": [
      "Enter odd row count: 7\n",
      " ***\n",
      "*\n",
      "*\n",
      "* ***\n",
      "*   *\n",
      "*   *\n",
      " ***\n"
     ]
    }
   ],
   "source": [
    "a=int(input(\"Enter odd row count: \"))\n",
    "for i in range(1,a+1):\n",
    "    if (i==1 or i==a):\n",
    "        print(\" \",end=\"\")\n",
    "        for j in range(0,3):\n",
    "            print(\"*\",end=\"\")\n",
    "        print()\n",
    "    elif(i==(a//2)+1):\n",
    "        for k in range(0,5):\n",
    "            if k==1:\n",
    "                print(\" \",end=\"\")\n",
    "            else:\n",
    "                print(\"*\",end=\"\")\n",
    "        print()\n",
    "    elif i>(a//2)+1:\n",
    "        for l in range(0,5):\n",
    "            if(l==0 or l==4):\n",
    "                print(\"*\",end=\"\")\n",
    "            else:\n",
    "                print(\" \",end=\"\")\n",
    "        print()\n",
    "    else:\n",
    "        print(\"*\",end=\"\")\n",
    "        print()\n",
    "            "
   ]
  },
  {
   "cell_type": "code",
   "execution_count": null,
   "metadata": {},
   "outputs": [],
   "source": [
    "# 3) x) Solve the following patterns \n",
    "\n",
    "# Input Description:   row count (only odd)\n",
    "\n",
    "# Input : 5\n",
    "\n",
    "# Output:\n",
    "# 1 1 1 1 1\n",
    "# 0 0 1 0 0\n",
    "# 0 0 1 0 0\n",
    "# 0 0 1 0 0\n",
    "# 1 1 1 1 1"
   ]
  },
  {
   "cell_type": "code",
   "execution_count": 111,
   "metadata": {},
   "outputs": [
    {
     "name": "stdout",
     "output_type": "stream",
     "text": [
      "Enter odd row count9\n",
      "1 1 1 1 1 1 1 1 1 \n",
      "0 0 0 0 1 0 0 0 0 \n",
      "0 0 0 0 1 0 0 0 0 \n",
      "0 0 0 0 1 0 0 0 0 \n",
      "0 0 0 0 1 0 0 0 0 \n",
      "0 0 0 0 1 0 0 0 0 \n",
      "0 0 0 0 1 0 0 0 0 \n",
      "0 0 0 0 1 0 0 0 0 \n",
      "1 1 1 1 1 1 1 1 1 \n"
     ]
    }
   ],
   "source": [
    "a=int(input(\"Enter odd row count: \"))\n",
    "for i in range(1,a+1):\n",
    "    for j in range(1,a+1):\n",
    "        if(i==1 or i==a):\n",
    "            print(1,end=\" \")\n",
    "        elif(j==(a//2)+1):\n",
    "            print(1,end=\" \")\n",
    "        else:\n",
    "            print(0,end=\" \")\n",
    "    print()"
   ]
  },
  {
   "cell_type": "code",
   "execution_count": null,
   "metadata": {},
   "outputs": [],
   "source": [
    "# 4) Cyclic rotation: \n",
    "\n",
    "# Case 1: first element moves to last and rest all the elements move one step to left  \n",
    "# Case 2: last element moves to first and rest all the element move  one step to right \n",
    "\n",
    "# Input 1 Decription: 1 - first to last  2- last to first\n",
    "\n",
    "# Input 2 Description : string\n",
    "\n",
    "# Input 3 Description : no of times\n",
    "\n",
    "# Input  :\n",
    "\n",
    "# 1\n",
    "# 'great'\n",
    "# 2\n",
    " \n",
    "# Output:\n",
    "    \n",
    "# reatg\n",
    "# eatgr\n",
    "\n",
    "# Input  :\n",
    "\n",
    "# 2\n",
    "# 'great'\n",
    "# 3\n",
    " \n",
    "# Output:\n",
    "    \n",
    "# tgrea\n",
    "# atgre"
   ]
  },
  {
   "cell_type": "code",
   "execution_count": 82,
   "metadata": {},
   "outputs": [
    {
     "name": "stdout",
     "output_type": "stream",
     "text": [
      " 1 - first to last  2- last to first: 1\n",
      "Enter a word: great\n",
      "Number of times to rotate: 2\n",
      "reatg\n",
      "eatgr\n"
     ]
    }
   ],
   "source": [
    "input1=int(input(\" 1 - first to last  2- last to first: \"))\n",
    "input2=list(input(\"Enter a word: \"))\n",
    "input3=int(input(\"Number of times to rotate: \"))\n",
    "\n",
    "if input1==1:\n",
    "    for i in range(input3): \n",
    "        x=input2[0]\n",
    "        input2.append(x)\n",
    "        input2.pop(0)\n",
    "        for j in input2:\n",
    "            print(j,end=\"\")\n",
    "        print()\n",
    "        \n",
    "elif input1==2:\n",
    "    for i in range(input3): \n",
    "        x=input2[-1]\n",
    "        input2.insert(0,x)\n",
    "        input2.pop(-1)\n",
    "        for j in input2:\n",
    "            print(j,end=\"\")\n",
    "        print()"
   ]
  },
  {
   "cell_type": "markdown",
   "metadata": {},
   "source": [
    " 4)In a pathology lab test, there are n number of samples for testing the health condition of a patient,\n",
    "each slide has 5 components, Sugar level, Blood pressure, Heartbeat rate, weight and fat percentage,\n",
    "based on input as provided by the patient's blood report.\n",
    "\n",
    "1. Create a sample input for a healthy patient as follows:\n",
    "\n",
    "\"Sugar level\":15, \"Blood pressure\":32, \"Heartbeat rate\":71, \"weight\":65, \"fat percentage\":10.\n",
    "\n",
    "2. Get values from the user and compare inputs with healthy patient data. If the patient data is not matching with the healthy\n",
    "patient’s data, provide a warning.\n",
    "\n",
    "3. Provide difference in readings to the patient.\n",
    "\n",
    "Sample Output:\n",
    "\n",
    "Sugar level:56\n",
    "\n",
    "Blood pressure:120\n",
    "\n",
    "Heartbeat rate:45\n",
    "\n",
    "weight:67\n",
    "\n",
    "fat percentage:67\n",
    "\n",
    "{'Sugar level': -41, 'Blood pressure': -88, 'Heartbeat rate': 26, 'weight': -2, 'fat percentage': -57}\n",
    "\n",
    "Sugar level -41\n",
    "\n",
    "The sugar level is 41 less than the ideal value\n",
    "\n",
    "Blood pressure -88\n",
    "\n",
    "Blood pressure is 88 less than the ideal value\n",
    "\n",
    "Heartbeat rate 26\n",
    "\n",
    "Heartbeat rate is 26 more than the ideal value\n",
    "\n",
    "weight -2\n",
    "\n",
    "weight is 2 less than the ideal value\n",
    "\n",
    "fat percentage 57\n",
    "\n",
    "fat percentage is 57 less than the ideal value"
   ]
  },
  {
   "cell_type": "code",
   "execution_count": 24,
   "metadata": {},
   "outputs": [
    {
     "name": "stdout",
     "output_type": "stream",
     "text": [
      "Sugar level: 56\n",
      "Blood pressure: 120\n",
      "Heartbeat rate: 45\n",
      "weight: 67\n",
      "fat percentage: 67\n",
      "{'Sugar level': -41, 'Blood pressure': -88, 'Heartbeat rate': 26, 'weight': -2, 'fat percentage': -57}\n",
      "Sugar level -41\n",
      "The sugar level is 41 less than the ideal value\n",
      "Blood pressure -88\n",
      "The Blood pressure is 88 less than the ideal value\n",
      "Heartbeat rate 26\n",
      "The Heartbeat rate is 26 more than the ideal value\n",
      "weight -2\n",
      "The weight is 2 less than the ideal value\n",
      "fat percentage -57\n",
      "The fat percentage is 57 less than the ideal value\n"
     ]
    }
   ],
   "source": [
    "healthy_patient={\"Sugar level\":15, \"Blood pressure\":32, \"Heartbeat rate\":71, \"weight\":65, \"fat percentage\":10}\n",
    "healthy_patient\n",
    "a=int(input(\"Sugar level: \"))\n",
    "\n",
    "b=int(input(\"Blood pressure: \"))\n",
    "\n",
    "c=int(input(\"Heartbeat rate: \"))\n",
    "\n",
    "d=int(input(\"weight: \"))\n",
    "\n",
    "e=int(input(\"fat percentage: \"))\n",
    "\n",
    "dict1={\"Sugar level\":15-a, \"Blood pressure\":32-b, \"Heartbeat rate\":71-c, \"weight\":65-d, \"fat percentage\":10-e}\n",
    "print(dict1)\n",
    "\n",
    "Sugarlevel= dict1[\"Sugar level\"]\n",
    "Bloodpressure=dict1[\"Blood pressure\"]\n",
    "Heartbeatrate=dict1[\"Heartbeat rate\"]\n",
    "weight=dict1[\"weight\"]\n",
    "fatpercentage=dict1[\"fat percentage\"]\n",
    "\n",
    "print(\"Sugar level\",Sugarlevel)\n",
    "if Sugarlevel<0:\n",
    "    print(\"The sugar level is\",-Sugarlevel, \"less than the ideal value\")\n",
    "else:\n",
    "    print(\"The sugar level is\",Sugarlevel, \"more than the ideal value\")\n",
    "    \n",
    "\n",
    "print(\"Blood pressure\",Bloodpressure)\n",
    "if Bloodpressure<0:\n",
    "    print(\"The Blood pressure is\",-Bloodpressure, \"less than the ideal value\")\n",
    "else:\n",
    "    print(\"The Blood pressure is\",Bloodpressure, \"more than the ideal value\")\n",
    "    \n",
    "\n",
    "print(\"Heartbeat rate\",Heartbeatrate)\n",
    "if Heartbeatrate<0:\n",
    "    print(\"The Heartbeat rate is\",-Heartbeatrate, \"less than the ideal value\")\n",
    "else:\n",
    "    print(\"The Heartbeat rate is\",Heartbeatrate, \"more than the ideal value\")\n",
    "    \n",
    "\n",
    "print(\"weight\",weight)\n",
    "if weight<0:\n",
    "    print(\"The weight is\",-weight, \"less than the ideal value\")\n",
    "else:\n",
    "    print(\"The weight is\",weight, \"more than the ideal value\")\n",
    "    \n",
    "\n",
    "print(\"fat percentage\",fatpercentage)\n",
    "if fatpercentage<0:\n",
    "    print(\"The fat percentage is\",-fatpercentage, \"less than the ideal value\")\n",
    "else:\n",
    "    print(\"The fat percentage is\",fatpercentage, \"more than the ideal value\")"
   ]
  },
  {
   "cell_type": "code",
   "execution_count": null,
   "metadata": {},
   "outputs": [],
   "source": [
    "# 5) a) Print the prime numbers between the given range\n",
    "\n",
    "# Input : 1 10\n",
    "\n",
    "# Output: \n",
    "#2,3,5,7\n"
   ]
  },
  {
   "cell_type": "code",
   "execution_count": 23,
   "metadata": {},
   "outputs": [
    {
     "name": "stdout",
     "output_type": "stream",
     "text": [
      "Enter a range: 1 10\n",
      "2 3 5 7 "
     ]
    }
   ],
   "source": [
    "a=input(\"Enter a range: \")\n",
    "b=[int(i) for i in a.split(\" \")]\n",
    "list1=[]\n",
    "for i in range(b[0],b[1]):\n",
    "    count=0\n",
    "    if i==1:\n",
    "        continue\n",
    "    for j in range(1,i):\n",
    "        if i%j==0:\n",
    "            count=count+1\n",
    "    if count<=1:\n",
    "        print(i,end=\" \")\n",
    "            "
   ]
  },
  {
   "cell_type": "code",
   "execution_count": null,
   "metadata": {},
   "outputs": [],
   "source": [
    "# b) Check whether the given number is Armstrong number or not\n",
    "\n",
    "# Armstrong number: 153 => 1^3+5^3+3^3=153 (If summing each digit to the power of number of digits results to the same number \n",
    "\n",
    "# then it is a arsmstrong number)\n",
    "\n",
    "# 1634 => 1^4+6^4+3^4+4^4 =1634         1^4 => digit^(number of digits)\n",
    "\n",
    "# Input : 1634\n",
    "\n",
    "#  Output : Armstrong number\n"
   ]
  },
  {
   "cell_type": "code",
   "execution_count": 39,
   "metadata": {},
   "outputs": [
    {
     "name": "stdout",
     "output_type": "stream",
     "text": [
      "Enter a number: 153\n",
      "Armstrong number\n"
     ]
    }
   ],
   "source": [
    "a=input(\"Enter a number: \")\n",
    "list1=[]\n",
    "l=len(a)\n",
    "num=int(a)\n",
    "arm=0\n",
    "for i in range(l):\n",
    "    a=int(a)\n",
    "    b=a%10\n",
    "    a=a//10\n",
    "    list1.append(b)\n",
    "\n",
    "for j in list1:\n",
    "    arm=arm+j**l\n",
    "    \n",
    "if arm==num:\n",
    "    print(\"Armstrong number\")\n",
    "else:\n",
    "    print(\"Not Armstrong number\")\n"
   ]
  },
  {
   "cell_type": "code",
   "execution_count": null,
   "metadata": {},
   "outputs": [],
   "source": [
    "# c) Convert Decimal to binary\n",
    "\n",
    "# Input1 : 12\n",
    "\n",
    "# Output1 :1100\n",
    "\n",
    "# Input2 : 20\n",
    "\n",
    "# Output2 :10100\n",
    "\n",
    "\n"
   ]
  },
  {
   "cell_type": "code",
   "execution_count": 52,
   "metadata": {},
   "outputs": [
    {
     "name": "stdout",
     "output_type": "stream",
     "text": [
      "Enter a number12\n",
      "1100\n"
     ]
    }
   ],
   "source": [
    "input1 = int(input(\"Enter a number\"))\n",
    "binary=format(input1,\"b\")\n",
    "print(binary)\n"
   ]
  },
  {
   "cell_type": "raw",
   "metadata": {},
   "source": [
    "# d) Find whether the given number is perfect number or not.\n",
    "\n",
    "# Any number can be perfect number in Python, if the sum of its positive divisors excluding the number itself is equal to that number.\n",
    "\n",
    "# For example, 6 is a perfect number in Python because 6 is divisible by 1, 2, 3 and 6. \n",
    "# So, the sum of these values are: 1+2+3 = 6 (Remember, we have to exclude the number itself. \n",
    "#That’s why we haven’t added 6 here). Some of the perfect numbers are 6, 28, 496, 8128 and 33550336 so on.\n",
    "\n",
    "# Input : 28\n",
    "\n",
    "# Output : Perfect number"
   ]
  },
  {
   "cell_type": "code",
   "execution_count": 49,
   "metadata": {},
   "outputs": [
    {
     "name": "stdout",
     "output_type": "stream",
     "text": [
      "Enter a number: 8128\n",
      "Perfect number\n"
     ]
    }
   ],
   "source": [
    "perfect=int(input(\"Enter a number: \"))\n",
    "sum=0\n",
    "for i in range(1,perfect):\n",
    "    if perfect%i==0:\n",
    "        sum=sum+i\n",
    "if sum==perfect:\n",
    "    print(\"Perfect number\")\n",
    "else:\n",
    "    print(\"Not Perfect number\")"
   ]
  }
 ],
 "metadata": {
  "kernelspec": {
   "display_name": "Python 3",
   "language": "python",
   "name": "python3"
  },
  "language_info": {
   "codemirror_mode": {
    "name": "ipython",
    "version": 3
   },
   "file_extension": ".py",
   "mimetype": "text/x-python",
   "name": "python",
   "nbconvert_exporter": "python",
   "pygments_lexer": "ipython3",
   "version": "3.7.3"
  }
 },
 "nbformat": 4,
 "nbformat_minor": 2
}
