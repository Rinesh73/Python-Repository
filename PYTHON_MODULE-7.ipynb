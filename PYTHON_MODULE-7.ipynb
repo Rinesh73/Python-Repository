{
 "cells": [
  {
   "cell_type": "markdown",
   "metadata": {},
   "source": [
    "# List Comprehension"
   ]
  },
  {
   "cell_type": "markdown",
   "metadata": {},
   "source": [
    "List comprehensions are used for creating new lists from other iterables. As list comprehensions return lists, they consist of brackets containing the expression, which is executed for each element along with the for loop to iterate over each element.\n",
    "\n",
    "List comprehension is an elegant way to define and create lists based on existing lists.\n",
    "\n",
    "List comprehension is generally more compact and faster than normal functions and loops for creating list.\n",
    "\n",
    "However, we should avoid writing very long list comprehensions in one line to ensure that code is user-friendly.\n",
    "\n",
    "Remember, every list comprehension can be rewritten in for loop, but every for loop can’t be rewritten in the form of list comprehension."
   ]
  },
  {
   "cell_type": "code",
   "execution_count": 53,
   "metadata": {},
   "outputs": [
    {
     "name": "stdout",
     "output_type": "stream",
     "text": [
      "['h', 'u', 'm', 'a', 'n']\n"
     ]
    }
   ],
   "source": [
    "# Iterating through a string Using for Loop\n",
    "h_letters = []\n",
    "\n",
    "for letter in 'human':\n",
    "    h_letters.append(letter)\n",
    "\n",
    "print(h_letters)"
   ]
  },
  {
   "cell_type": "code",
   "execution_count": 54,
   "metadata": {},
   "outputs": [
    {
     "name": "stdout",
     "output_type": "stream",
     "text": [
      "['h', 'u', 'm', 'a', 'n']\n"
     ]
    }
   ],
   "source": [
    "# Iterating through a string Using List Comprehension\n",
    "h_letters = [ letter for letter in 'human' ]\n",
    "print( h_letters)"
   ]
  },
  {
   "cell_type": "code",
   "execution_count": 55,
   "metadata": {},
   "outputs": [
    {
     "name": "stdout",
     "output_type": "stream",
     "text": [
      "[0, 2, 4, 6, 8, 10, 12, 14, 16, 18]\n"
     ]
    }
   ],
   "source": [
    "# Using if with List Comprehension\n",
    "number_list = [ x for x in range(20) if x % 2 == 0]\n",
    "print(number_list)"
   ]
  },
  {
   "cell_type": "code",
   "execution_count": 56,
   "metadata": {},
   "outputs": [
    {
     "name": "stdout",
     "output_type": "stream",
     "text": [
      "[0, 10, 20, 30, 40, 50, 60, 70, 80, 90]\n"
     ]
    }
   ],
   "source": [
    "# Nested IF with List Comprehension\n",
    "num_list = [y for y in range(100) if y % 2 == 0 if y % 5 == 0]\n",
    "print(num_list)"
   ]
  },
  {
   "cell_type": "code",
   "execution_count": 57,
   "metadata": {},
   "outputs": [
    {
     "name": "stdout",
     "output_type": "stream",
     "text": [
      "['Even', 'Odd', 'Even', 'Odd', 'Even', 'Odd', 'Even', 'Odd', 'Even', 'Odd']\n"
     ]
    }
   ],
   "source": [
    "# if...else With List Comprehension\n",
    "obj = [\"Even\" if i%2==0 else \"Odd\" for i in range(10)]\n",
    "print(obj)"
   ]
  },
  {
   "cell_type": "code",
   "execution_count": 60,
   "metadata": {},
   "outputs": [
    {
     "name": "stdout",
     "output_type": "stream",
     "text": [
      "[[1, 4], [2, 5], [3, 6], [4, 8]]\n"
     ]
    }
   ],
   "source": [
    "# Nested Loops in List Comprehension\n",
    "\n",
    "# Transpose of Matrix using Nested Loops\n",
    "transposed = []\n",
    "matrix = [[1, 2, 3, 4], [4, 5, 6, 8]]\n",
    "\n",
    "for i in range(len(matrix[0])):\n",
    "    transposed_row = []\n",
    "\n",
    "    for row in matrix:\n",
    "        transposed_row.append(row[i])\n",
    "    transposed.append(transposed_row)\n",
    "\n",
    "print(transposed)\n"
   ]
  },
  {
   "cell_type": "code",
   "execution_count": 59,
   "metadata": {},
   "outputs": [
    {
     "name": "stdout",
     "output_type": "stream",
     "text": [
      "[[1, 3, 5, 7], [2, 4, 6, 8]]\n"
     ]
    }
   ],
   "source": [
    "# Transpose of a Matrix using List Comprehension\n",
    "matrix = [[1, 2], [3,4], [5,6], [7,8]]\n",
    "transpose = [[row[i] for row in matrix] for i in range(2)]\n",
    "print (transpose)\n",
    "\n",
    "#In above program, we have a variable matrix which have 4 rows and 2 columns.\n",
    "#We need to find transpose of the matrix. \n",
    "#For that, we used list comprehension.\n",
    "\n",
    "# **Note: The nested loops in list comprehension don’t work like normal nested loops. \n",
    "#In the above program, for i in range(2) is executed before row[i] for row in matrix. \n",
    "#Hence at first, a value is assigned to i then item directed by row[i] is appended in the transpose variable.\n",
    "\n"
   ]
  },
  {
   "cell_type": "code",
   "execution_count": 61,
   "metadata": {},
   "outputs": [
    {
     "data": {
      "text/plain": [
       "['A', 'B', 'C', 'A', 'B', 'C', 'A', 'B', 'C']"
      ]
     },
     "execution_count": 61,
     "metadata": {},
     "output_type": "execute_result"
    }
   ],
   "source": [
    "[j for i in (1,2,3) for j in [\"A\",\"B\",\"C\"]]"
   ]
  },
  {
   "cell_type": "code",
   "execution_count": 62,
   "metadata": {},
   "outputs": [
    {
     "data": {
      "text/plain": [
       "[1, 1, 0, 1, 0, 0, 1, 0, 0, 0]"
      ]
     },
     "execution_count": 62,
     "metadata": {},
     "output_type": "execute_result"
    }
   ],
   "source": [
    "[1 if j==0 else 0 for i in range(0,5) for j in range(i)]"
   ]
  },
  {
   "cell_type": "code",
   "execution_count": 65,
   "metadata": {},
   "outputs": [
    {
     "data": {
      "text/plain": [
       "[[0, 1, 2, 3, 4], [0, 1, 2, 3, 4], [0, 1, 2, 3, 4]]"
      ]
     },
     "execution_count": 65,
     "metadata": {},
     "output_type": "execute_result"
    }
   ],
   "source": [
    "[[i  for i in range(0,5)] for j in range(0,3)]"
   ]
  },
  {
   "cell_type": "markdown",
   "metadata": {},
   "source": [
    "# Map\n",
    "The map() function applies a given function to each item of an iterable (list, tuple etc.) and returns a list of the results."
   ]
  },
  {
   "cell_type": "markdown",
   "metadata": {},
   "source": [
    "map() Parameter\n",
    "function - map() passes each item of the iterable to this function.\n",
    "iterable - iterable which is to be mapped\n",
    "You can pass more than one iterable to the map() function.\n",
    "\n",
    "Return Value from map()\n",
    "The map() function applies a given to function to each item of an iterable and returns a list of the results.\n",
    "\n",
    "The returned value from map() (map object) can then be passed to functions like list() (to create a list), set() (to create a set) and so on."
   ]
  },
  {
   "cell_type": "code",
   "execution_count": 66,
   "metadata": {},
   "outputs": [
    {
     "name": "stdout",
     "output_type": "stream",
     "text": [
      "<map object at 0x0000029AEA39DE10>\n",
      "{16, 1, 4, 9}\n"
     ]
    }
   ],
   "source": [
    "def calculateSquare(n):\n",
    "    return n*n\n",
    "\n",
    "\n",
    "numbers = (1, 2, 3, 4)\n",
    "result = map(calculateSquare, numbers)\n",
    "print(result)\n",
    "\n",
    "# converting map object to set\n",
    "numbersSquare = set(result)\n",
    "print(numbersSquare)"
   ]
  },
  {
   "cell_type": "code",
   "execution_count": 67,
   "metadata": {},
   "outputs": [
    {
     "name": "stdout",
     "output_type": "stream",
     "text": [
      "<map object at 0x0000029AEA39D358>\n",
      "{16, 1, 4, 9}\n"
     ]
    }
   ],
   "source": [
    "# lambda function with map()\n",
    "numbers = (1, 2, 3, 4)\n",
    "result = map(lambda x: x*x, numbers)\n",
    "print(result)\n",
    "\n",
    "# converting map object to set\n",
    "numbersSquare = set(result)\n",
    "print(numbersSquare)"
   ]
  },
  {
   "cell_type": "code",
   "execution_count": 69,
   "metadata": {},
   "outputs": [
    {
     "name": "stdout",
     "output_type": "stream",
     "text": [
      "[9, 11, 13]\n"
     ]
    }
   ],
   "source": [
    "# Passing Multiple Iterators to map() Using Lambda\n",
    "\n",
    "num1 = [4, 5, 6]\n",
    "num2 = [5, 6, 7]\n",
    "\n",
    "result = map(lambda n1, n2: n1+n2, num1, num2)\n",
    "print(list(result))"
   ]
  },
  {
   "cell_type": "code",
   "execution_count": 24,
   "metadata": {},
   "outputs": [
    {
     "data": {
      "text/plain": [
       "[0, 100, 0, 300, 10]"
      ]
     },
     "execution_count": 24,
     "metadata": {},
     "output_type": "execute_result"
    }
   ],
   "source": [
    "var_list=[0,10,0,30,1]\n",
    "out=list(map(lambda x: x*10,var_list))\n",
    "out"
   ]
  },
  {
   "cell_type": "code",
   "execution_count": 25,
   "metadata": {},
   "outputs": [
    {
     "name": "stdout",
     "output_type": "stream",
     "text": [
      "[5, 7, 9]\n"
     ]
    }
   ],
   "source": [
    "list_a=[1,2,3]\n",
    "list_b=[4,5,6]\n",
    "print(list(map(lambda x,y:x+y,list_a,list_b)))"
   ]
  },
  {
   "cell_type": "markdown",
   "metadata": {},
   "source": [
    "# Filter\n",
    "The filter() method constructs an iterator from elements of an iterable for which a function returns true."
   ]
  },
  {
   "cell_type": "markdown",
   "metadata": {},
   "source": [
    "In simple words, filter() method filters the given iterable with the help of a function that tests each element in the iterable to be true or not.\n",
    "\n",
    "filter() Parameters\n",
    "filter() method takes two parameters:\n",
    "\n",
    "- function - function that tests if elements of an iterable return true or false\n",
    "If None, the function defaults to Identity function - which returns false if any elements are false\n",
    "\n",
    "- iterable - iterable which is to be filtered, could be sets, lists, tuples, or containers of any iterators\n",
    "\n",
    "Return value from filter()\n",
    "filter() method returns an iterator that passed the function check for each element in the iterable."
   ]
  },
  {
   "cell_type": "code",
   "execution_count": 70,
   "metadata": {},
   "outputs": [
    {
     "name": "stdout",
     "output_type": "stream",
     "text": [
      "The filtered vowels are:\n",
      "a\n",
      "e\n",
      "i\n",
      "o\n"
     ]
    }
   ],
   "source": [
    "# list of letters\n",
    "letters = ['a', 'b', 'd', 'e', 'i', 'j', 'o']\n",
    "\n",
    "# function that filters vowels\n",
    "def filterVowels(letter):\n",
    "    vowels = ['a', 'e', 'i', 'o', 'u']\n",
    "\n",
    "    if(letter in vowels):\n",
    "        return True\n",
    "    else:\n",
    "        return False\n",
    "\n",
    "filteredVowels = filter(filterVowels, letters)\n",
    "\n",
    "print('The filtered vowels are:')\n",
    "for vowel in filteredVowels:\n",
    "    print(vowel)"
   ]
  },
  {
   "cell_type": "code",
   "execution_count": 71,
   "metadata": {},
   "outputs": [
    {
     "name": "stdout",
     "output_type": "stream",
     "text": [
      "The filtered elements are:\n",
      "1\n",
      "a\n",
      "True\n",
      "0\n"
     ]
    }
   ],
   "source": [
    "# How filter() method works without the filter function?\n",
    "\n",
    "# random list\n",
    "randomList = [1, 'a', 0, False, True, '0']\n",
    "\n",
    "filteredList = filter(None, randomList)\n",
    "\n",
    "print('The filtered elements are:')\n",
    "for element in filteredList:\n",
    "    print(element)\n",
    "    \n",
    "#With filter function as None, the function defaults to Identity function, and each element in randomList is checked if it's true or not.\n",
    "\n",
    "#When we loop through the final filteredList, we get the elements which are true: 1, a, True and '0' ('0' as a string is also true)."
   ]
  },
  {
   "cell_type": "code",
   "execution_count": 26,
   "metadata": {},
   "outputs": [
    {
     "data": {
      "text/plain": [
       "[22, 54, 62, 3248]"
      ]
     },
     "execution_count": 26,
     "metadata": {},
     "output_type": "execute_result"
    }
   ],
   "source": [
    "lst1=[5,7,22,97,54,62,61,3248]\n",
    "final_lst=list(filter(lambda x: x%2==0,lst1))\n",
    "final_lst"
   ]
  },
  {
   "cell_type": "markdown",
   "metadata": {},
   "source": [
    "# Reduce\n",
    "The reduce(fun,seq) function is used to apply a particular function passed in its argument to all of the list elements mentioned in the sequence passed along.This function is defined in “functools” module."
   ]
  },
  {
   "cell_type": "markdown",
   "metadata": {},
   "source": [
    "Working : \n",
    "\n",
    "At first step, first two elements of sequence are picked and the result is obtained.\n",
    "\n",
    "Next step is to apply the same function to the previously attained result and the number just succeeding the second element and the result is again stored.\n",
    "\n",
    "This process continues till no more elements are left in the container.\n",
    "\n",
    "The final returned result is returned and printed on console."
   ]
  },
  {
   "cell_type": "code",
   "execution_count": 76,
   "metadata": {},
   "outputs": [
    {
     "name": "stdout",
     "output_type": "stream",
     "text": [
      "The sum of the list elements is : 17\n",
      "The maximum element of the list is : 6\n"
     ]
    }
   ],
   "source": [
    "# python code to demonstrate working of reduce() \n",
    "  \n",
    "# importing functools for reduce() \n",
    "import functools \n",
    "  \n",
    "# initializing list \n",
    "lis = [ 1 , 3, 5, 6, 2, ] \n",
    "  \n",
    "# using reduce to compute sum of list \n",
    "print (\"The sum of the list elements is : \",end=\"\") \n",
    "print (functools.reduce(lambda a,b : a+b,lis)) \n",
    "  \n",
    "# using reduce to compute maximum element from list \n",
    "print (\"The maximum element of the list is : \",end=\"\") \n",
    "print (functools.reduce(lambda a,b : a if a > b else b,lis)) "
   ]
  },
  {
   "cell_type": "code",
   "execution_count": 28,
   "metadata": {},
   "outputs": [
    {
     "name": "stdout",
     "output_type": "stream",
     "text": [
      "193\n"
     ]
    }
   ],
   "source": [
    "# Using Operator Functions\n",
    "\n",
    "# reduce() can also be combined with operator functions to achieve the similar functionality as with lambda functions and makes the code more readable.\n",
    "\n",
    "import functools as f\n",
    "import operator as o\n",
    "l1=[5,8,10,20,50,100]\n",
    "sum=f.reduce(o.add,l1)\n",
    "print(sum)"
   ]
  },
  {
   "cell_type": "code",
   "execution_count": 77,
   "metadata": {},
   "outputs": [
    {
     "name": "stdout",
     "output_type": "stream",
     "text": [
      "The sum of the list elements is : 17\n",
      "The product of list elements is : 180\n",
      "The concatenated product is : geeksforgeeks\n"
     ]
    }
   ],
   "source": [
    "# python code to demonstrate working of reduce() \n",
    "# using operator functions \n",
    "  \n",
    "# importing functools for reduce() \n",
    "import functools \n",
    "  \n",
    "# importing operator for operator functions \n",
    "import operator \n",
    "  \n",
    "# initializing list \n",
    "lis = [ 1 , 3, 5, 6, 2, ] \n",
    "  \n",
    "# using reduce to compute sum of list \n",
    "# using operator functions \n",
    "print (\"The sum of the list elements is : \",end=\"\") \n",
    "print (functools.reduce(operator.add,lis)) \n",
    "  \n",
    "# using reduce to compute product \n",
    "# using operator functions \n",
    "print (\"The product of list elements is : \",end=\"\") \n",
    "print (functools.reduce(operator.mul,lis)) \n",
    "  \n",
    "# using reduce to concatenate string \n",
    "print (\"The concatenated product is : \",end=\"\") \n",
    "print (functools.reduce(operator.add,[\"geeks\",\"for\",\"geeks\"])) "
   ]
  },
  {
   "cell_type": "markdown",
   "metadata": {},
   "source": [
    "#### reduce() vs accumulate() "
   ]
  },
  {
   "cell_type": "markdown",
   "metadata": {},
   "source": [
    "Both reduce() and accumulate() can be used to calculate the summation of a sequence elements. But there are differences in the implementation aspects in both of these.\n",
    "\n",
    "- reduce() is defined in “functools” module, accumulate() in “itertools” module.\n",
    "\n",
    "- reduce() stores the intermediate result and only returns the final summation value. Whereas, accumulate() returns a iterator containing the intermediate results. The last number of the iterator returned is summation value of the list.\n",
    "\n",
    "- reduce(fun,seq) takes function as 1st and sequence as 2nd argument. In contrast accumulate(seq,fun) takes sequence as 1st argument and function as 2nd argument."
   ]
  },
  {
   "cell_type": "markdown",
   "metadata": {},
   "source": [
    "# Accumulator\n",
    "This iterator takes two arguments, iterable target and the function which would be followed at each iteration of value in target. If no function is passed, addition takes place by default. If the input iterable is empty, the output iterable will also be empty."
   ]
  },
  {
   "cell_type": "code",
   "execution_count": 80,
   "metadata": {},
   "outputs": [
    {
     "name": "stdout",
     "output_type": "stream",
     "text": [
      "1\n",
      "2\n",
      "6\n",
      "24\n",
      "120\n"
     ]
    }
   ],
   "source": [
    "# import the itertool module  \n",
    "# to work with it \n",
    "import itertools \n",
    "  \n",
    "# import operator to work  \n",
    "# with operator \n",
    "import operator \n",
    "  \n",
    "# creating a list GFG \n",
    "GFG = [1, 2, 3, 4, 5] \n",
    "  \n",
    "# using the itertools.accumulate()  \n",
    "result = itertools.accumulate(GFG,  \n",
    "                              operator.mul) \n",
    "  \n",
    "# printing each item from list \n",
    "for each in result: \n",
    "    print(each) "
   ]
  },
  {
   "cell_type": "code",
   "execution_count": 30,
   "metadata": {},
   "outputs": [
    {
     "data": {
      "text/plain": [
       "[1, 4, 8, 18, 22]"
      ]
     },
     "execution_count": 30,
     "metadata": {},
     "output_type": "execute_result"
    }
   ],
   "source": [
    "import itertools as i\n",
    "lst1=[1,3,4,10,4]\n",
    "acc=list(i.accumulate(lst1,lambda x,y:x+y))\n",
    "acc"
   ]
  },
  {
   "cell_type": "code",
   "execution_count": 32,
   "metadata": {},
   "outputs": [
    {
     "data": {
      "text/plain": [
       "[1, 3, 12, 120, 480]"
      ]
     },
     "execution_count": 32,
     "metadata": {},
     "output_type": "execute_result"
    }
   ],
   "source": [
    "acc2=list(i.accumulate(lst1,lambda x,y:x*y))\n",
    "acc2"
   ]
  },
  {
   "cell_type": "code",
   "execution_count": 79,
   "metadata": {},
   "outputs": [
    {
     "name": "stdout",
     "output_type": "stream",
     "text": [
      "The summation of list using accumulate is :[1, 4, 8, 18, 22]\n",
      "The summation of list using reduce is :22\n"
     ]
    }
   ],
   "source": [
    "# python code to demonstrate summation  \n",
    "# using reduce() and accumulate() \n",
    "  \n",
    "# importing itertools for accumulate() \n",
    "import itertools \n",
    "  \n",
    "# importing functools for reduce() \n",
    "import functools \n",
    "  \n",
    "# initializing list  \n",
    "lis = [ 1, 3, 4, 10, 4 ] \n",
    "  \n",
    "# priting summation using accumulate() \n",
    "print (\"The summation of list using accumulate is :\",end=\"\") \n",
    "print (list(itertools.accumulate(lis,lambda x,y : x+y))) \n",
    "  \n",
    "# priting summation using reduce() \n",
    "print (\"The summation of list using reduce is :\",end=\"\") \n",
    "print (functools.reduce(lambda x,y:x+y,lis)) "
   ]
  },
  {
   "cell_type": "code",
   "execution_count": null,
   "metadata": {},
   "outputs": [],
   "source": []
  }
 ],
 "metadata": {
  "kernelspec": {
   "display_name": "Python 3",
   "language": "python",
   "name": "python3"
  },
  "language_info": {
   "codemirror_mode": {
    "name": "ipython",
    "version": 3
   },
   "file_extension": ".py",
   "mimetype": "text/x-python",
   "name": "python",
   "nbconvert_exporter": "python",
   "pygments_lexer": "ipython3",
   "version": "3.7.3"
  }
 },
 "nbformat": 4,
 "nbformat_minor": 2
}
