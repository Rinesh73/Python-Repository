{
 "cells": [
  {
   "cell_type": "markdown",
   "metadata": {},
   "source": [
    "# PYTHON Problems"
   ]
  },
  {
   "cell_type": "markdown",
   "metadata": {},
   "source": [
    "### 1.Write a function that inverts the keys and values of a dictionary.\n",
    "\n",
    "Example:invert({ \"z\": \"q\", \"w\": \"f\" })\n",
    "➞ { \"q\": \"z\", \"f\": \"w\" }\n",
    "\n",
    "invert({ \"a\": 1, \"b\": 2, \"c\": 3 })\n",
    "➞ { 1: \"a\", 2: \"b\", 3: \"c\" }\n",
    "\n",
    "invert({ \"zebra\": \"koala\", \"horse\": \"camel\" })\n",
    "➞ { \"koala\": \"zebra\", \"camel\": \"horse\" }"
   ]
  },
  {
   "cell_type": "code",
   "execution_count": 1,
   "metadata": {},
   "outputs": [],
   "source": [
    "dict1 = { \"a\": 1, \"b\": 2, \"c\": 3 }"
   ]
  },
  {
   "cell_type": "code",
   "execution_count": 4,
   "metadata": {},
   "outputs": [],
   "source": [
    "dict2={}\n",
    "for i,j in dict1.items():\n",
    "    dict2[j]=i\n",
    "    "
   ]
  },
  {
   "cell_type": "code",
   "execution_count": 5,
   "metadata": {},
   "outputs": [
    {
     "data": {
      "text/plain": [
       "{1: 'a', 2: 'b', 3: 'c'}"
      ]
     },
     "execution_count": 5,
     "metadata": {},
     "output_type": "execute_result"
    }
   ],
   "source": [
    "dict2"
   ]
  },
  {
   "cell_type": "code",
   "execution_count": 6,
   "metadata": {},
   "outputs": [],
   "source": [
    "def invert(dict1):\n",
    "    dict2={}\n",
    "    for i,j in dict1.items():\n",
    "        dict2[j]=i\n",
    "    return dict2\n",
    "    "
   ]
  },
  {
   "cell_type": "code",
   "execution_count": 7,
   "metadata": {},
   "outputs": [
    {
     "data": {
      "text/plain": [
       "{'koala': 'zebra', 'camel': 'horse'}"
      ]
     },
     "execution_count": 7,
     "metadata": {},
     "output_type": "execute_result"
    }
   ],
   "source": [
    "invert({ \"zebra\": \"koala\", \"horse\": \"camel\" })"
   ]
  },
  {
   "cell_type": "markdown",
   "metadata": {},
   "source": [
    "### 2.Return the total number of lists inside a given list.\n",
    "\n",
    "Example:num_of_sublists([[1, 2, 3]]) ➞ 1\n",
    "\n",
    "num_of_sublists([[1, 2, 3], [1, 2, 3], [1, 2, 3]]) ➞ 3\n",
    "\n",
    "num_of_sublists([[1, 2, 3], [1, 2, 3], [1, 2, 3], [1, 2, 3]]) ➞ 4\n",
    "\n",
    "num_of_sublists([1, 2, 3]) ➞ 0"
   ]
  },
  {
   "cell_type": "code",
   "execution_count": 96,
   "metadata": {},
   "outputs": [],
   "source": [
    "# Method - 1\n",
    "def countList(lst): \n",
    "    return sum(isinstance(i, list) for i in lst) "
   ]
  },
  {
   "cell_type": "code",
   "execution_count": 98,
   "metadata": {},
   "outputs": [
    {
     "data": {
      "text/plain": [
       "4"
      ]
     },
     "execution_count": 98,
     "metadata": {},
     "output_type": "execute_result"
    }
   ],
   "source": [
    "countList([[1, 2, 3], [1, 2, 3], [1, 2, 3], [1, 2, 3]])"
   ]
  },
  {
   "cell_type": "code",
   "execution_count": 148,
   "metadata": {},
   "outputs": [],
   "source": [
    "#Method -2\n",
    "def countList(lst): \n",
    "    count = 0\n",
    "    for el in lst: \n",
    "        if type(el)== type([]): \n",
    "            count+= 1\n",
    "              \n",
    "    return count "
   ]
  },
  {
   "cell_type": "code",
   "execution_count": 258,
   "metadata": {},
   "outputs": [
    {
     "data": {
      "text/plain": [
       "0"
      ]
     },
     "execution_count": 258,
     "metadata": {},
     "output_type": "execute_result"
    }
   ],
   "source": [
    "countList([1, 2, 3])"
   ]
  },
  {
   "cell_type": "markdown",
   "metadata": {},
   "source": [
    "### 3.Given the month and year as numbers, return whether that month contains a Friday 13th.\n",
    "\n",
    "Examples\n",
    "has_friday_13(3, 2020) ➞ True\n",
    "\n",
    "has_friday_13(10, 2017) ➞ True\n",
    "\n",
    "has_friday_13(1, 1985) ➞ False\n",
    "Notes\n",
    "January will be given as 1, February as 2, etc ...\n",
    "Check Resources for some helpful tutorials on Python's datetime module."
   ]
  },
  {
   "cell_type": "code",
   "execution_count": 1,
   "metadata": {},
   "outputs": [],
   "source": [
    "from datetime import date\n",
    "def has_friday_13(month, year):\n",
    "    return date(year,month,13).strftime(\"%A\")=='Friday'"
   ]
  },
  {
   "cell_type": "code",
   "execution_count": 2,
   "metadata": {},
   "outputs": [
    {
     "data": {
      "text/plain": [
       "True"
      ]
     },
     "execution_count": 2,
     "metadata": {},
     "output_type": "execute_result"
    }
   ],
   "source": [
    "has_friday_13(3,2020)"
   ]
  },
  {
   "cell_type": "markdown",
   "metadata": {},
   "source": [
    "### 4.A city skyline can be represented as a 2-D list with 1s representing buildings. In the example below,\n",
    "the height of the tallest building is 4 (second-most right column).\n",
    "\n",
    "[[0, 0, 0, 0, 0, 0],\n",
    "[0, 0, 0, 0, 1, 0],\n",
    "[0, 0, 1, 0, 1, 0],\n",
    "[0, 1, 1, 1, 1, 0],\n",
    "[1, 1, 1, 1, 1, 1]]\n",
    "Create a function that takes a skyline (2-D list of 0's and 1's) and returns the height of the tallest skyscraper.\n",
    "\n",
    "Examples\n",
    "tallest_skyscraper([\n",
    "  [0, 0, 0, 0],\n",
    "  [0, 1, 0, 0],\n",
    "  [0, 1, 1, 0],\n",
    "  [1, 1, 1, 1]\n",
    "]) ➞ 3\n",
    "\n",
    "tallest_skyscraper([\n",
    "  [0, 1, 0, 0],\n",
    "  [0, 1, 0, 0],\n",
    "  [0, 1, 1, 0],\n",
    "  [1, 1, 1, 1]\n",
    "]) ➞ 4\n",
    "\n",
    "tallest_skyscraper([\n",
    "  [0, 0, 0, 0],\n",
    "  [0, 0, 0, 0],\n",
    "  [1, 1, 1, 0],\n",
    "  [1, 1, 1, 1]\n",
    "]) ➞ 2"
   ]
  },
  {
   "cell_type": "code",
   "execution_count": 261,
   "metadata": {},
   "outputs": [],
   "source": [
    "l1=[ [0, 1, 0, 0], [0, 1, 0, 0], [0, 1, 1, 0], [1, 1, 1, 1] ]"
   ]
  },
  {
   "cell_type": "code",
   "execution_count": 262,
   "metadata": {},
   "outputs": [
    {
     "name": "stdout",
     "output_type": "stream",
     "text": [
      "Height of tallest building is 4\n"
     ]
    }
   ],
   "source": [
    "x=[0]\n",
    "c=len(l1)\n",
    "for i in l1:\n",
    "    for j in i:\n",
    "        if j==1:\n",
    "            x.append(c)\n",
    "    c=c-1\n",
    "\n",
    "print(\"Height of tallest building is\",max(x))\n",
    "    \n",
    "\n",
    "                "
   ]
  },
  {
   "cell_type": "markdown",
   "metadata": {},
   "source": [
    "### 5.Create a function that takes a variable number of groups of items, and returns the number of ways the items can be arranged, with one item from each group. Order does not matter.\n",
    "\n",
    "Examples\n",
    "combinations(2, 3) ➞ 6\n",
    "\n",
    "combinations(3, 7, 4) ➞ 84\n",
    "\n",
    "combinations(2, 3, 4, 5) ➞ 120"
   ]
  },
  {
   "cell_type": "code",
   "execution_count": 92,
   "metadata": {},
   "outputs": [],
   "source": [
    "def combinations(l1):\n",
    "    p=1\n",
    "    for i in l1:\n",
    "        p=p*i\n",
    "    return p     "
   ]
  },
  {
   "cell_type": "code",
   "execution_count": 95,
   "metadata": {},
   "outputs": [
    {
     "data": {
      "text/plain": [
       "84"
      ]
     },
     "execution_count": 95,
     "metadata": {},
     "output_type": "execute_result"
    }
   ],
   "source": [
    "list1=[3, 7, 4]\n",
    "combinations(list1)"
   ]
  },
  {
   "cell_type": "markdown",
   "metadata": {},
   "source": [
    "### 6.Majority Vote\n",
    "Create a function that returns the majority vote in a list. A majority vote is an element that occurs > N/2 times in a list (where N is the length of the list).\n",
    "\n",
    "Examples\n",
    "majority_vote([\"A\", \"A\", \"B\"]) ➞ \"A\"\n",
    "\n",
    "majority_vote([\"A\", \"A\", \"A\", \"B\", \"C\", \"A\"]) ➞ \"A\"\n",
    "\n",
    "majority_vote([\"A\", \"B\", \"B\", \"A\", \"C\", \"C\"]) ➞ None\n",
    "\n",
    "Notes\n",
    "The frequency of the majority element must be strictly greater than 1/2.\n",
    "If there is no majority element, return None.\n",
    "If the list is empty, return None."
   ]
  },
  {
   "cell_type": "code",
   "execution_count": 263,
   "metadata": {},
   "outputs": [],
   "source": [
    "def majority_vote(l1):\n",
    "    dict1={}\n",
    "    for i in l1:\n",
    "        if i not in dict1:\n",
    "            dict1[i]=1\n",
    "        else:\n",
    "            dict1[i]=dict1[i]+1\n",
    "\n",
    "    c=0\n",
    "    for i,j in dict1.items():\n",
    "        if j> (len(l1)/2):\n",
    "            c=c+1\n",
    "            return(i)\n",
    "            break\n",
    "    if(c==0):\n",
    "        return(None)"
   ]
  },
  {
   "cell_type": "code",
   "execution_count": 264,
   "metadata": {},
   "outputs": [],
   "source": [
    "majority_vote([\"A\", \"B\", \"B\", \"A\", \"C\", \"C\"])"
   ]
  },
  {
   "cell_type": "markdown",
   "metadata": {},
   "source": [
    "### 7.Rearrange the Number\n",
    "Given a number, return the difference between the maximum and minimum numbers that can be formed when the digits are rearranged.\n",
    "\n",
    "Examples\n",
    "rearranged_difference(972882) ➞ 760833\n",
    "#988722 - 227889 = 760833\n",
    "\n",
    "rearranged_difference(3320707) ➞ 7709823\n",
    "#7733200 - 23377 = 7709823\n",
    "\n",
    "rearranged_difference(90010) ➞ 90981\n",
    "#91000 - 19 = 90981"
   ]
  },
  {
   "cell_type": "code",
   "execution_count": 3,
   "metadata": {},
   "outputs": [
    {
     "name": "stdout",
     "output_type": "stream",
     "text": [
      "['2', '2', '7', '8', '8', '9']\n",
      "['9', '8', '8', '7', '2', '2']\n"
     ]
    }
   ],
   "source": [
    "a=972882\n",
    "\n",
    "minimum=sorted(list(str(a)))\n",
    "print(minimum)\n",
    "\n",
    "maximum=sorted(list(str(a)),reverse=True)\n",
    "print(maximum)"
   ]
  },
  {
   "cell_type": "code",
   "execution_count": 4,
   "metadata": {},
   "outputs": [
    {
     "data": {
      "text/plain": [
       "760833"
      ]
     },
     "execution_count": 4,
     "metadata": {},
     "output_type": "execute_result"
    }
   ],
   "source": [
    "difference=int(''.join(maximum))-int(''.join(minimum))\n",
    "difference"
   ]
  },
  {
   "cell_type": "markdown",
   "metadata": {},
   "source": [
    "### 8.Flip the Array\n",
    "Create a function that flips a horizontal list into a vertical list, and a vertical list into a horizontal list.\n",
    "\n",
    "In other words, take an 1 x n list (1 row + n columns) and flip it into a n x 1 list (n rows and 1 column), and vice versa.\n",
    "\n",
    "Examples\n",
    "flip_list([1, 2, 3, 4]) ➞ [[1], [2], [3], [4]]\n",
    "#Take a horizontal list and flip it vertical.\n",
    "\n",
    "flip_list([[5], [6], [9]]) ➞ [5, 6, 9]\n",
    "#Take a vertical list and flip it horizontal.\n",
    "\n",
    "flip_list([]) ➞ []\n",
    "Notes\n",
    "If given an empty list [], return an empty list []."
   ]
  },
  {
   "cell_type": "code",
   "execution_count": 5,
   "metadata": {},
   "outputs": [],
   "source": [
    "def flip_list(lst):\n",
    "    return [x[0] if isinstance(x, list) else [x] for x in lst]"
   ]
  },
  {
   "cell_type": "code",
   "execution_count": 6,
   "metadata": {},
   "outputs": [
    {
     "data": {
      "text/plain": [
       "[[1], [2], [3], [4]]"
      ]
     },
     "execution_count": 6,
     "metadata": {},
     "output_type": "execute_result"
    }
   ],
   "source": [
    "flip_list([1, 2, 3, 4]) "
   ]
  },
  {
   "cell_type": "markdown",
   "metadata": {},
   "source": [
    "### 9.Count and Identify Data Types\n",
    "Given a function that accepts unlimited arguments, check and count how many data types are in those arguments. Finally return the total in a list.\n",
    "\n",
    "List order is:\n",
    "\n",
    "[int, str, bool, list, tuple, dictionary]\n",
    "Examples\n",
    "count_datatypes(1, 45, \"Hi\", False) ➞ [2, 1, 1, 0, 0, 0]\n",
    "\n",
    "count_datatypes([10, 20], (\"t\", \"Ok\"), 2, 3, 1) ➞ [3, 0, 0, 1, 1, 0]\n",
    "\n",
    "count_datatypes(\"Hello\", \"Bye\", True, True, False, {\"1\": \"One\", \"2\": \"Two\"}, [1, 3], {\"Brayan\": 18}, 25, 23) ➞ [2, 2, 3, 1, 0, 2]\n",
    "\n",
    "count_datatypes(4, 21, (\"ES\", \"EN\"), (\"a\", \"b\"), False, [1, 2, 3], [4, 5, 6]) ➞ [2, 0, 1, 2, 2, 0]\n",
    "Notes\n",
    "If no arguments are given, return [0, 0, 0, 0, 0, 0]"
   ]
  },
  {
   "cell_type": "code",
   "execution_count": 211,
   "metadata": {},
   "outputs": [],
   "source": [
    "a=[4, 21, (\"ES\", \"EN\"), (\"a\", \"b\"), False, [1, 2, 3], [4, 5, 6]]"
   ]
  },
  {
   "cell_type": "code",
   "execution_count": 213,
   "metadata": {},
   "outputs": [],
   "source": [
    "def count_datatypes(a):\n",
    "    c,c1,c2,c3,c4,c5=0,0,0,0,0,0\n",
    "    for i in a:\n",
    "        if isinstance(i,bool)==True:\n",
    "            c2=c2+1\n",
    "        elif isinstance(i,str)==True:\n",
    "            c1=c1+1\n",
    "        elif isinstance(i,int)==True:\n",
    "            c=c+1\n",
    "        elif isinstance(i,list)==True:\n",
    "            c3=c3+1\n",
    "        elif isinstance(i,tuple)==True:\n",
    "            c4=c4+1\n",
    "        elif isinstance(i,dict)==True:\n",
    "            c5=c5+1\n",
    "\n",
    "    return([c,c1,c2,c3,c4,c5])\n",
    "    "
   ]
  },
  {
   "cell_type": "code",
   "execution_count": 214,
   "metadata": {},
   "outputs": [
    {
     "data": {
      "text/plain": [
       "[2, 0, 1, 2, 2, 0]"
      ]
     },
     "execution_count": 214,
     "metadata": {},
     "output_type": "execute_result"
    }
   ],
   "source": [
    "count_datatypes(a)"
   ]
  },
  {
   "cell_type": "raw",
   "metadata": {},
   "source": [
    "10.From A to Z\n",
    "Given a string indicating a range of letters, return a string which includes all the letters in that range, including the last letter. Note that if the range is given in capital letters, return the string in capitals also!\n",
    "\n",
    "Examples\n",
    "gimme_the_letters(\"a-z\") ➞ \"abcdefghijklmnopqrstuvwxyz\"\n",
    "\n",
    "gimme_the_letters(\"h-o\") ➞ \"hijklmno\"\n",
    "\n",
    "gimme_the_letters(\"Q-Z\") ➞ \"QRSTUVWXYZ\"\n",
    "\n",
    "gimme_the_letters(\"J-J\") ➞ J\"\n",
    "Notes\n",
    "A hyphen will separate the two letters in the string.\n",
    "You don't need to worry about error handling in this one (i.e. both letters will be the same case and the second letter will always be after the first alphabetically)."
   ]
  },
  {
   "cell_type": "code",
   "execution_count": 271,
   "metadata": {},
   "outputs": [],
   "source": [
    "a=\"A-Z\""
   ]
  },
  {
   "cell_type": "code",
   "execution_count": 269,
   "metadata": {},
   "outputs": [],
   "source": [
    "def gimme_the_letters(a):\n",
    "    \n",
    "    l1=[]\n",
    "    l2=[]\n",
    "    for i in a.split('-'):\n",
    "        l1.append(ord(i))\n",
    "    for j in range(l1[0],l1[-1]+1):\n",
    "        l2.append(chr(j))\n",
    "\n",
    "    return(\"\".join(l2))"
   ]
  },
  {
   "cell_type": "code",
   "execution_count": 272,
   "metadata": {},
   "outputs": [
    {
     "data": {
      "text/plain": [
       "'ABCDEFGHIJKLMNOPQRSTUVWXYZ'"
      ]
     },
     "execution_count": 272,
     "metadata": {},
     "output_type": "execute_result"
    }
   ],
   "source": [
    "gimme_the_letters(a)"
   ]
  },
  {
   "cell_type": "raw",
   "metadata": {},
   "source": [
    "11.Reverse the Odd Length Words\n",
    "Given a string, reverse all the words which have odd length. The even length words are not changed.\n",
    "\n",
    "Examples\n",
    "reverse_odd(\"Bananas\") ➞ \"sananaB\"\n",
    "\n",
    "reverse_odd(\"One two three four\") ➞ \"enO owt eerht four\"\n",
    "\n",
    "reverse_odd(\"Make sure uoy only esrever sdrow of ddo length\")\n",
    "➞ \"Make sure you only reverse words of odd length\"\n",
    "Notes\n",
    "There is exactly one space between each word and no punctuation is used."
   ]
  },
  {
   "cell_type": "code",
   "execution_count": 252,
   "metadata": {},
   "outputs": [],
   "source": [
    "a=\"One two three four\""
   ]
  },
  {
   "cell_type": "code",
   "execution_count": 254,
   "metadata": {},
   "outputs": [],
   "source": [
    "def reverse_odd(a):\n",
    "    \n",
    "    l1=[]\n",
    "    for i in a.split():\n",
    "        if len(i)% 2 != 0:\n",
    "            l2=[]\n",
    "            for j in i:\n",
    "                l2.insert(0,j)\n",
    "            l1.extend(l2)\n",
    "            l1.append(\" \")\n",
    "        else:\n",
    "            for k in i:\n",
    "                l1.append(k)\n",
    "            l1.append(\" \")\n",
    "    return(\"\".join(l1))\n",
    "    "
   ]
  },
  {
   "cell_type": "code",
   "execution_count": 257,
   "metadata": {},
   "outputs": [
    {
     "data": {
      "text/plain": [
       "'enO owt eerht four '"
      ]
     },
     "execution_count": 257,
     "metadata": {},
     "output_type": "execute_result"
    }
   ],
   "source": [
    "reverse_odd(a)"
   ]
  },
  {
   "cell_type": "raw",
   "metadata": {},
   "source": [
    "12.Capitalize the Last Letter\n",
    "Create a function that capitalizes the last letter of every word.\n",
    "\n",
    "Examples\n",
    "cap_last(\"hello\") ➞ \"hellO\"\n",
    "\n",
    "cap_last(\"My Name Is Edabit\") ➞ \"MY NamE IS EdabiT\"\n",
    "\n",
    "cap_last(\"HELp THe LASt LETTERs CAPITALISe\") ➞ \"HELP THE LAST LETTERS CAPITALISE\"\n",
    "Notes\n",
    "There won't be any cases of punctuation in the tests."
   ]
  },
  {
   "cell_type": "code",
   "execution_count": 143,
   "metadata": {},
   "outputs": [],
   "source": [
    "s1=\"HELP THE LAST LETTERS CAPITALISE\""
   ]
  },
  {
   "cell_type": "code",
   "execution_count": 141,
   "metadata": {},
   "outputs": [],
   "source": [
    "def cap_last(s1):\n",
    "    l1=[]\n",
    "    for i in s1.split():\n",
    "        for j in i:\n",
    "            if j==i[-1]:\n",
    "                l1.append(j.capitalize())\n",
    "            else:\n",
    "                l1.append(j)\n",
    "        l1.append(\" \")\n",
    "    return(\"\".join(l1))"
   ]
  },
  {
   "cell_type": "code",
   "execution_count": 144,
   "metadata": {},
   "outputs": [
    {
     "data": {
      "text/plain": [
       "'HELP THE LAST LETTERS CAPITALISE '"
      ]
     },
     "execution_count": 144,
     "metadata": {},
     "output_type": "execute_result"
    }
   ],
   "source": [
    "cap_last(s1)"
   ]
  },
  {
   "cell_type": "raw",
   "metadata": {},
   "source": [
    "13.Negative Image\n",
    "Suppose an image can be represented as a 2D list of 0s and 1s. Create a function to reverse an image. Replace the 0s with 1s and vice versa.\n",
    "\n",
    "Examples\n",
    "reverse_image([\n",
    "  [1, 0, 0],\n",
    "  [0, 1, 0],\n",
    "  [0, 0, 1]\n",
    "]) ➞ [\n",
    "  [0, 1, 1],\n",
    "  [1, 0, 1],\n",
    "  [1, 1, 0]\n",
    "]\n",
    "\n",
    "reverse_image([\n",
    "  [1, 1, 1],\n",
    "  [0, 0, 0]\n",
    "]) ➞ [\n",
    "  [0, 0, 0],\n",
    "  [1, 1, 1]\n",
    "]\n",
    "\n",
    "reverse_image([\n",
    "  [1, 0, 0],\n",
    "  [1, 0, 0]\n",
    "]) ➞ [\n",
    "  [0, 1, 1],\n",
    "  [0, 1, 1]\n",
    "]"
   ]
  },
  {
   "cell_type": "code",
   "execution_count": 120,
   "metadata": {},
   "outputs": [],
   "source": [
    "l1=[\n",
    "  [1, 1, 1],\n",
    "  [0, 0, 0]\n",
    "]"
   ]
  },
  {
   "cell_type": "code",
   "execution_count": 121,
   "metadata": {},
   "outputs": [],
   "source": [
    "def reverse_image(l1):\n",
    "    x=[[1 if j == 0 else 0  for j in i]for i in l1]\n",
    "    return x"
   ]
  },
  {
   "cell_type": "code",
   "execution_count": 122,
   "metadata": {},
   "outputs": [
    {
     "data": {
      "text/plain": [
       "[[0, 0, 0], [1, 1, 1]]"
      ]
     },
     "execution_count": 122,
     "metadata": {},
     "output_type": "execute_result"
    }
   ],
   "source": [
    "reverse_image(l1)"
   ]
  },
  {
   "cell_type": "raw",
   "metadata": {},
   "source": [
    "14.Shuffle the Name\n",
    "Create a function that takes a string (will be a person's first and last name) and returns a string with the first and last name swapped.\n",
    "\n",
    "Examples\n",
    "name_shuffle(\"Donald Trump\") ➞ \"Trump Donald\"\n",
    "\n",
    "name_shuffle(\"Rosie O'Donnell\") ➞ \"O'Donnell Rosie\"\n",
    "\n",
    "name_shuffle(\"Seymour Butts\") ➞ \"Butts Seymour\"\n",
    "\n",
    "Notes\n",
    "There will be exactly one space between the first and last name.\n",
    "If you get stuck on a challenge, find help in the Resources tab.\n",
    "If you're really stuck, unlock solutions in the Solutions tab."
   ]
  },
  {
   "cell_type": "code",
   "execution_count": 66,
   "metadata": {},
   "outputs": [],
   "source": [
    "def name_shuffle(x):\n",
    "    l1=[]\n",
    "    for j in x.split():\n",
    "        l1.insert(0,j)\n",
    "    return(\" \".join(l1))"
   ]
  },
  {
   "cell_type": "code",
   "execution_count": 86,
   "metadata": {},
   "outputs": [
    {
     "data": {
      "text/plain": [
       "\"O'Donnell Rosie\""
      ]
     },
     "execution_count": 86,
     "metadata": {},
     "output_type": "execute_result"
    }
   ],
   "source": [
    "name_shuffle(\"Rosie O'Donnell\")"
   ]
  },
  {
   "cell_type": "raw",
   "metadata": {},
   "source": [
    "15.Find the Missing Number\n",
    "Create a function that takes a list of numbers between 1 and 10 (excluding one number) and returns the missing number.\n",
    "\n",
    "Examples\n",
    "missing_num([1, 2, 3, 4, 6, 7, 8, 9, 10]) ➞ 5\n",
    "\n",
    "missing_num([7, 2, 3, 6, 5, 9, 1, 4, 8]) ➞ 10\n",
    "\n",
    "missing_num([10, 5, 1, 2, 4, 6, 8, 3, 9]) ➞ 7\n",
    "\n",
    "Notes\n",
    "The list of numbers will be unsorted (not in order).\n",
    "Only one number will be missing."
   ]
  },
  {
   "cell_type": "code",
   "execution_count": 82,
   "metadata": {},
   "outputs": [],
   "source": [
    "list1=[1, 2, 3, 4, 6, 7, 8, 9, 10]"
   ]
  },
  {
   "cell_type": "code",
   "execution_count": 101,
   "metadata": {},
   "outputs": [],
   "source": [
    "def missing_num(list1):\n",
    "    l1=[1,2,3,4,5,6,7,8,9,10]\n",
    "    for  i in l1:\n",
    "        if i not in list1:\n",
    "            return(i)\n",
    "        "
   ]
  },
  {
   "cell_type": "code",
   "execution_count": 104,
   "metadata": {},
   "outputs": [
    {
     "data": {
      "text/plain": [
       "10"
      ]
     },
     "execution_count": 104,
     "metadata": {},
     "output_type": "execute_result"
    }
   ],
   "source": [
    "missing_num([7, 2, 3, 6, 5, 9, 1, 4, 8])"
   ]
  },
  {
   "cell_type": "code",
   "execution_count": null,
   "metadata": {},
   "outputs": [],
   "source": []
  }
 ],
 "metadata": {
  "kernelspec": {
   "display_name": "Python 3",
   "language": "python",
   "name": "python3"
  },
  "language_info": {
   "codemirror_mode": {
    "name": "ipython",
    "version": 3
   },
   "file_extension": ".py",
   "mimetype": "text/x-python",
   "name": "python",
   "nbconvert_exporter": "python",
   "pygments_lexer": "ipython3",
   "version": "3.7.3"
  }
 },
 "nbformat": 4,
 "nbformat_minor": 2
}
